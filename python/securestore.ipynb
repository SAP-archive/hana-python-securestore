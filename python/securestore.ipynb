{
 "metadata": {
  "language_info": {
   "codemirror_mode": {
    "name": "ipython",
    "version": 3
   },
   "file_extension": ".py",
   "mimetype": "text/x-python",
   "name": "python",
   "nbconvert_exporter": "python",
   "pygments_lexer": "ipython3",
   "version": "3.9.0-final"
  },
  "orig_nbformat": 2,
  "kernelspec": {
   "name": "python3",
   "display_name": "Python 3"
  }
 },
 "nbformat": 4,
 "nbformat_minor": 2,
 "cells": [
  {
   "cell_type": "code",
   "execution_count": null,
   "metadata": {},
   "outputs": [],
   "source": [
    "\"\"\"\n",
    "XSA Python buildpack app example\n",
    "Author: Andrew Lunde\n",
    "\"\"\""
   ]
  },
  {
   "source": [
    "Import other python libs"
   ],
   "cell_type": "markdown",
   "metadata": {}
  },
  {
   "cell_type": "code",
   "execution_count": null,
   "metadata": {},
   "outputs": [],
   "source": [
    "import os\n",
    "import json\n"
   ]
  },
  {
   "source": [
    "Import the Cloud Foundry Environment library.\n",
    "\n",
    "This makes it easier to get info from the application's environment.\n",
    "\n",
    "https://pypi.org/project/cfenv/ for details.\n"
   ],
   "cell_type": "markdown",
   "metadata": {}
  },
  {
   "cell_type": "code",
   "execution_count": null,
   "metadata": {},
   "outputs": [],
   "source": [
    "from cfenv import AppEnv\n"
   ]
  },
  {
   "source": [
    "Load the HANA Python Client library"
   ],
   "cell_type": "markdown",
   "metadata": {}
  },
  {
   "cell_type": "code",
   "execution_count": null,
   "metadata": {},
   "outputs": [],
   "source": [
    "from hdbcli import dbapi\n"
   ]
  },
  {
   "source": [
    "Create the Flask webserver application object"
   ],
   "cell_type": "markdown",
   "metadata": {}
  },
  {
   "source": [
    "Grab the environment"
   ],
   "cell_type": "markdown",
   "metadata": {}
  },
  {
   "cell_type": "code",
   "execution_count": null,
   "metadata": {},
   "outputs": [],
   "source": [
    "env = AppEnv()\n"
   ]
  },
  {
   "source": [
    "```\n",
    "Get port from environment variable or choose 9099 as local default\n",
    "If you are testing locally (i.e. not with xs or cf deployments,\n",
    "Be sure to pull all the python modules locally\n",
    "with pip using XS_PYTHON unzipped to /tmp\n",
    "pip install -r requirements.txt\n",
    "```\n"
   ],
   "cell_type": "markdown",
   "metadata": {}
  },
  {
   "source": [
    "NodeJS way xsenv.loadEnv();\n"
   ],
   "cell_type": "markdown",
   "metadata": {}
  },
  {
   "cell_type": "code",
   "execution_count": null,
   "metadata": {},
   "outputs": [],
   "source": [
    "with open('default-env.json') as json_file:\n",
    "    data = json.load(json_file)\n",
    "    print(data['PORT'])\n",
    "    os.environ['PORT'] = str(data['PORT'])\n",
    "    #print(json.dumps(data['VCAP_SERVICES']))\n",
    "    os.environ['VCAP_SERVICES'] = json.dumps(data['VCAP_SERVICES'])\n",
    "    \n"
   ]
  },
  {
   "cell_type": "code",
   "execution_count": null,
   "metadata": {},
   "outputs": [],
   "source": [
    "port = int(os.getenv(\"PORT\", 9099))\n",
    "print(port)"
   ]
  },
  {
   "cell_type": "code",
   "execution_count": null,
   "metadata": {},
   "outputs": [],
   "source": [
    "hana = env.get_service(label='hana')\n",
    "print(hana)"
   ]
  },
  {
   "source": [
    "First insert a key/value pair."
   ],
   "cell_type": "markdown",
   "metadata": {}
  },
  {
   "cell_type": "code",
   "execution_count": null,
   "metadata": {},
   "outputs": [],
   "source": [
    "output = 'Python UnAuthorized SecureStore Insert. \\n'\n"
   ]
  },
  {
   "cell_type": "code",
   "execution_count": null,
   "metadata": {},
   "outputs": [],
   "source": [
    "schema = hana.credentials['schema']\n",
    "host = hana.credentials['host']\n",
    "port = hana.credentials['port']\n",
    "user = hana.credentials['user']\n",
    "password = hana.credentials['password']\n"
   ]
  },
  {
   "cell_type": "code",
   "execution_count": null,
   "metadata": {},
   "outputs": [],
   "source": [
    "if 'certificate' in hana.credentials:\n",
    "    haascert = hana.credentials['certificate']\n"
   ]
  },
  {
   "cell_type": "code",
   "execution_count": null,
   "metadata": {},
   "outputs": [],
   "source": [
    "print(\"schema: \" + schema)\n",
    "print(\"host: \" + host)\n",
    "print(\"port: \" + port)\n",
    "print(\"user: \" + user)\n",
    "print(\"password: \" + password)"
   ]
  },
  {
   "cell_type": "code",
   "execution_count": null,
   "metadata": {},
   "outputs": [],
   "source": [
    "output += 'schema: ' + schema + '\\n'\n",
    "output += 'host: ' + host + '\\n'\n",
    "output += 'port: ' + port + '\\n'\n",
    "output += 'user: ' + user + '\\n'\n",
    "output += 'pass: ' + password + '\\n'\n"
   ]
  },
  {
   "cell_type": "code",
   "execution_count": null,
   "metadata": {},
   "outputs": [],
   "source": [
    "# Connect to the python HANA DB driver using the connection info\n",
    "# User for HANA as a Service instances\n",
    "if 'certificate' in hana.credentials:\n",
    "    connection = dbapi.connect(\n",
    "        address=host,\n",
    "        port=int(port),\n",
    "        user=user,\n",
    "        password=password,\n",
    "        currentSchema=schema,\n",
    "        encrypt=\"true\",\n",
    "        sslValidateCertificate=\"true\",\n",
    "        sslCryptoProvider=\"openssl\",\n",
    "        sslTrustStore=haascert\n",
    "    )\n",
    "else:\n",
    "    connection = dbapi.connect(\n",
    "        address=host,\n",
    "        port=int(port),\n",
    "        user=user,\n",
    "        password=password,\n",
    "        currentSchema=schema\n",
    "    )\n",
    "\n"
   ]
  },
  {
   "cell_type": "code",
   "execution_count": null,
   "metadata": {},
   "outputs": [],
   "source": [
    "# Prep a cursor for SQL execution\n",
    "cursor = connection.cursor()\n"
   ]
  },
  {
   "cell_type": "code",
   "execution_count": null,
   "metadata": {},
   "outputs": [],
   "source": [
    "# Form an SQL statement to retrieve some data\n",
    "\n",
    "string2store = 'Whatever!'\n"
   ]
  },
  {
   "cell_type": "code",
   "execution_count": null,
   "metadata": {},
   "outputs": [],
   "source": [
    "import codecs\n"
   ]
  },
  {
   "cell_type": "code",
   "execution_count": null,
   "metadata": {},
   "outputs": [],
   "source": [
    "hex2store = (codecs.encode(str.encode(string2store), \"hex\")).decode()\n"
   ]
  },
  {
   "cell_type": "code",
   "execution_count": null,
   "metadata": {},
   "outputs": [],
   "source": [
    "\n",
    "try:\n",
    "    cursor.callproc(\"SYS.USER_SECURESTORE_INSERT\",\n",
    "                    (\"TestStoreName\", False, \"TestKey\", hex2store))\n",
    "    output += 'key TestKey with value ' + string2store + '=' + \\\n",
    "                hex2store + ' was inserted into store TestStoreName.\\n'\n",
    "except:\n",
    "    output += 'key TestKey likely already exists. Try deleting first.\\n'\n"
   ]
  },
  {
   "cell_type": "code",
   "execution_count": null,
   "metadata": {},
   "outputs": [],
   "source": [
    "# Close the DB connection\n",
    "connection.close()\n"
   ]
  },
  {
   "cell_type": "code",
   "execution_count": null,
   "metadata": {},
   "outputs": [],
   "source": [
    "print(output)"
   ]
  },
  {
   "source": [
    "Now read it back from the secure store."
   ],
   "cell_type": "markdown",
   "metadata": {}
  },
  {
   "cell_type": "code",
   "execution_count": null,
   "metadata": {},
   "outputs": [],
   "source": [
    "output = 'Python UnAuthorized SecureStore Retrieve.\\n'"
   ]
  },
  {
   "cell_type": "code",
   "execution_count": null,
   "metadata": {},
   "outputs": [],
   "source": [
    "schema = hana.credentials['schema']\n",
    "host = hana.credentials['host']\n",
    "port = hana.credentials['port']\n",
    "user = hana.credentials['user']\n",
    "password = hana.credentials['password']"
   ]
  },
  {
   "cell_type": "code",
   "execution_count": null,
   "metadata": {},
   "outputs": [],
   "source": [
    "if 'certificate' in hana.credentials:\n",
    "    haascert = hana.credentials['certificate']"
   ]
  },
  {
   "cell_type": "code",
   "execution_count": null,
   "metadata": {},
   "outputs": [],
   "source": [
    "output += 'schema: ' + schema + '\\n'\n",
    "output += 'host: ' + host + '\\n'\n",
    "output += 'port: ' + port + '\\n'\n",
    "output += 'user: ' + user + '\\n'\n",
    "output += 'pass: ' + password + '\\n'\n"
   ]
  },
  {
   "cell_type": "code",
   "execution_count": null,
   "metadata": {},
   "outputs": [],
   "source": [
    "# Connect to the python HANA DB driver using the connection info\n",
    "# User for HANA as a Service instances\n",
    "if 'certificate' in hana.credentials:\n",
    "    connection = dbapi.connect(\n",
    "        address=host,\n",
    "        port=int(port),\n",
    "        user=user,\n",
    "        password=password,\n",
    "        currentSchema=schema,\n",
    "        encrypt=\"true\",\n",
    "        sslValidateCertificate=\"true\",\n",
    "        sslCryptoProvider=\"openssl\",\n",
    "        sslTrustStore=haascert\n",
    "    )\n",
    "else:\n",
    "    connection = dbapi.connect(\n",
    "        address=host,\n",
    "        port=int(port),\n",
    "        user=user,\n",
    "        password=password,\n",
    "        currentSchema=schema\n",
    "    )"
   ]
  },
  {
   "cell_type": "code",
   "execution_count": null,
   "metadata": {},
   "outputs": [],
   "source": [
    "# Prep a cursor for SQL execution\n",
    "cursor = connection.cursor()"
   ]
  },
  {
   "cell_type": "code",
   "execution_count": null,
   "metadata": {},
   "outputs": [],
   "source": [
    "# Form an SQL statement to retrieve some data\n",
    "\n",
    "# https://blogs.sap.com/2017/07/26/sap-hana-2.0-sps02-new-feature-updated-python-driver/\n",
    "\n",
    "# cursor.execute('call SYS.USER_SECURESTORE_RETRIEVE (\\'TestStoreName\\',\n",
    "# False, \\'TestKey\\', ?)')\n",
    "hexvalue = cursor.callproc(\"SYS.USER_SECURESTORE_RETRIEVE\",\n",
    "                            (\"TestStoreName\", False, \"TestKey\", None))\n"
   ]
  },
  {
   "cell_type": "code",
   "execution_count": null,
   "metadata": {},
   "outputs": [],
   "source": [
    "# Close the DB connection\n",
    "connection.close()\n"
   ]
  },
  {
   "cell_type": "code",
   "execution_count": null,
   "metadata": {},
   "outputs": [],
   "source": [
    "import codecs\n"
   ]
  },
  {
   "cell_type": "code",
   "execution_count": null,
   "metadata": {},
   "outputs": [],
   "source": [
    "  \n",
    "if hexvalue[3] is None:\n",
    "    output += 'key TestKey does not exist in store TestStoreName. ' + \\\n",
    "                'Try inserting a value first.\\n'\n",
    "else:\n",
    "    retrieved = codecs.decode(hexvalue[3].hex(), \"hex\").decode()\n",
    "    output += 'key TestKey with value ' + retrieved + \\\n",
    "                ' was retrieved from store TestStoreName.\\n'\n"
   ]
  },
  {
   "cell_type": "code",
   "execution_count": null,
   "metadata": {},
   "outputs": [],
   "source": [
    "print(output)"
   ]
  },
  {
   "cell_type": "code",
   "execution_count": null,
   "metadata": {},
   "outputs": [],
   "source": [
    "output = 'Python UnAuthorized SecureStore Delete. \\n'\n"
   ]
  },
  {
   "cell_type": "code",
   "execution_count": null,
   "metadata": {},
   "outputs": [],
   "source": [
    "schema = hana.credentials['schema']\n",
    "host = hana.credentials['host']\n",
    "port = hana.credentials['port']\n",
    "user = hana.credentials['user']\n",
    "password = hana.credentials['password']\n"
   ]
  },
  {
   "cell_type": "code",
   "execution_count": null,
   "metadata": {},
   "outputs": [],
   "source": [
    "# The certificate will available for HANA service instances\n",
    "# that require an encrypted connection\n",
    "# Note: This was tested to work with python hdbcli-2.3.112 tar.gz package\n",
    "# not hdbcli-2.3.14 provided in XS_PYTHON00_0-70003433.ZIP\n",
    "if 'certificate' in hana.credentials:\n",
    "    haascert = hana.credentials['certificate']\n"
   ]
  },
  {
   "cell_type": "code",
   "execution_count": null,
   "metadata": {},
   "outputs": [],
   "source": [
    "\n",
    "output += 'schema: ' + schema + '\\n'\n",
    "output += 'host: ' + host + '\\n'\n",
    "output += 'port: ' + port + '\\n'\n",
    "output += 'user: ' + user + '\\n'\n",
    "output += 'pass: ' + password + '\\n'\n"
   ]
  },
  {
   "cell_type": "code",
   "execution_count": null,
   "metadata": {},
   "outputs": [],
   "source": [
    "# Connect to the python HANA DB driver using the connection info\n",
    "# User for HANA as a Service instances\n",
    "if 'certificate' in hana.credentials:\n",
    "    connection = dbapi.connect(\n",
    "        address=host,\n",
    "        port=int(port),\n",
    "        user=user,\n",
    "        password=password,\n",
    "        currentSchema=schema,\n",
    "        encrypt=\"true\",\n",
    "        sslValidateCertificate=\"true\",\n",
    "        sslCryptoProvider=\"openssl\",\n",
    "        sslTrustStore=haascert\n",
    "    )\n",
    "else:\n",
    "    connection = dbapi.connect(\n",
    "        address=host,\n",
    "        port=int(port),\n",
    "        user=user,\n",
    "        password=password,\n",
    "        currentSchema=schema\n",
    "    )\n"
   ]
  },
  {
   "cell_type": "code",
   "execution_count": null,
   "metadata": {},
   "outputs": [],
   "source": [
    "# Prep a cursor for SQL execution\n",
    "cursor = connection.cursor()\n"
   ]
  },
  {
   "cell_type": "code",
   "execution_count": null,
   "metadata": {},
   "outputs": [],
   "source": [
    "# Form an SQL statement\n",
    "cursor.callproc(\"SYS.USER_SECURESTORE_DELETE\",\n",
    "                (\"TestStoreName\", False, \"TestKey\"))\n"
   ]
  },
  {
   "cell_type": "code",
   "execution_count": null,
   "metadata": {},
   "outputs": [],
   "source": [
    "# Close the DB connection\n",
    "connection.close()\n"
   ]
  },
  {
   "cell_type": "code",
   "execution_count": null,
   "metadata": {},
   "outputs": [],
   "source": [
    "output += 'key TestKey was deleted from store TestStoreName.\\n'\n"
   ]
  },
  {
   "cell_type": "code",
   "execution_count": null,
   "metadata": {},
   "outputs": [],
   "source": [
    "print(output)"
   ]
  },
  {
   "cell_type": "code",
   "execution_count": null,
   "metadata": {},
   "outputs": [],
   "source": []
  }
 ]
}